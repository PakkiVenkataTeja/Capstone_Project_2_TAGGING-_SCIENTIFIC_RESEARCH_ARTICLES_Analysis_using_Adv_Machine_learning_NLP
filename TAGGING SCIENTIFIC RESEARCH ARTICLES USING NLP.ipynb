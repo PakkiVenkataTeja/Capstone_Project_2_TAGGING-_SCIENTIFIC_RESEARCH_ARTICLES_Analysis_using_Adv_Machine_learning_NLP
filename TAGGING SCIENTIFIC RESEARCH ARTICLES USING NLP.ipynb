{
  "nbformat": 4,
  "nbformat_minor": 0,
  "metadata": {
    "colab": {
      "provenance": []
    },
    "kernelspec": {
      "name": "python3",
      "display_name": "Python 3"
    },
    "language_info": {
      "name": "python"
    }
  },
  "cells": [
    {
      "cell_type": "code",
      "execution_count": null,
      "metadata": {
        "id": "fREXOKb1Bme5"
      },
      "outputs": [],
      "source": [
        "import numpy as np\n",
        "import pandas as pd\n",
        "import matplotlib.pyplot as plt\n",
        "import seaborn as sns\n",
        "import re,string"
      ]
    },
    {
      "cell_type": "code",
      "source": [
        "from sklearn.feature_extraction.text import CountVectorizer, TfidfVectorizer\n",
        "from sklearn.metrics.pairwise import cosine_similarity\n",
        "import nltk\n",
        "from nltk.tokenize import word_tokenize\n",
        "from nltk.tokenize import sent_tokenize\n",
        "from nltk.stem import WordNetLemmatizer \n",
        "from nltk.corpus import stopwords\n",
        "from nltk.stem.porter import PorterStemmer\n",
        "nltk.download('stopwords')"
      ],
      "metadata": {
        "id": "WaA2di1PLnSp",
        "colab": {
          "base_uri": "https://localhost:8080/"
        },
        "outputId": "b41b2860-1754-4f7f-f276-4016e621d605"
      },
      "execution_count": null,
      "outputs": [
        {
          "output_type": "stream",
          "name": "stderr",
          "text": [
            "[nltk_data] Downloading package stopwords to /root/nltk_data...\n",
            "[nltk_data]   Package stopwords is already up-to-date!\n"
          ]
        },
        {
          "output_type": "execute_result",
          "data": {
            "text/plain": [
              "True"
            ]
          },
          "metadata": {},
          "execution_count": 2
        }
      ]
    },
    {
      "cell_type": "code",
      "source": [
        "import nltk\n",
        "nltk.download('punkt')\n",
        "nltk.download('stopwords')\n",
        "nltk.download('wordnet')\n",
        "nltk.download('omw-1.4')\n",
        "from nltk.tokenize import word_tokenize\n",
        "from nltk.tokenize import sent_tokenize\n",
        "from nltk.stem import WordNetLemmatizer \n",
        "from nltk.corpus import stopwords\n",
        "stopwords.words('english')\n",
        "import string\n",
        "string.punctuation\n",
        "from nltk.stem.porter import PorterStemmer\n",
        "\n",
        "from tensorflow.keras.preprocessing.text import Tokenizer\n",
        "from tensorflow.keras.preprocessing.sequence import pad_sequences\n",
        "from tensorflow.keras.callbacks import Callback, ReduceLROnPlateau, EarlyStopping"
      ],
      "metadata": {
        "colab": {
          "base_uri": "https://localhost:8080/"
        },
        "id": "0WH97kE20qKN",
        "outputId": "76d5bc2f-e22b-406d-b70d-8a39767b2df3"
      },
      "execution_count": null,
      "outputs": [
        {
          "output_type": "stream",
          "name": "stderr",
          "text": [
            "[nltk_data] Downloading package punkt to /root/nltk_data...\n",
            "[nltk_data]   Package punkt is already up-to-date!\n",
            "[nltk_data] Downloading package stopwords to /root/nltk_data...\n",
            "[nltk_data]   Package stopwords is already up-to-date!\n",
            "[nltk_data] Downloading package wordnet to /root/nltk_data...\n",
            "[nltk_data]   Package wordnet is already up-to-date!\n",
            "[nltk_data] Downloading package omw-1.4 to /root/nltk_data...\n",
            "[nltk_data]   Package omw-1.4 is already up-to-date!\n"
          ]
        }
      ]
    },
    {
      "cell_type": "code",
      "source": [
        "import spacy\n",
        "\n",
        "nlp = spacy.load(\"en_core_web_sm\")"
      ],
      "metadata": {
        "id": "pz01e5vbDIE9",
        "colab": {
          "base_uri": "https://localhost:8080/"
        },
        "outputId": "2786cc6e-6d79-4314-8bd0-8391a189fba8"
      },
      "execution_count": null,
      "outputs": [
        {
          "output_type": "stream",
          "name": "stderr",
          "text": [
            "/usr/local/lib/python3.8/dist-packages/torch/cuda/__init__.py:497: UserWarning: Can't initialize NVML\n",
            "  warnings.warn(\"Can't initialize NVML\")\n"
          ]
        }
      ]
    },
    {
      "cell_type": "code",
      "source": [
        "data=pd.read_csv(\"/content/train.csv\")"
      ],
      "metadata": {
        "id": "qS5KX676CS5o"
      },
      "execution_count": null,
      "outputs": []
    },
    {
      "cell_type": "code",
      "source": [
        "data"
      ],
      "metadata": {
        "colab": {
          "base_uri": "https://localhost:8080/",
          "height": 424
        },
        "id": "tIxrAQGKCoZv",
        "outputId": "62362951-0745-4407-b2a7-0c611df05985"
      },
      "execution_count": null,
      "outputs": [
        {
          "output_type": "execute_result",
          "data": {
            "text/plain": [
              "                                                   TITLE  \\\n",
              "0            Reconstructing Subject-Specific Effect Maps   \n",
              "1                     Rotation Invariance Neural Network   \n",
              "2      Spherical polyharmonics and Poisson kernels fo...   \n",
              "3      A finite element approximation for the stochas...   \n",
              "4      Comparative study of Discrete Wavelet Transfor...   \n",
              "...                                                  ...   \n",
              "20963  Contemporary machine learning: a guide for pra...   \n",
              "20964  Uniform diamond coatings on WC-Co hard alloy c...   \n",
              "20965  Analysing Soccer Games with Clustering and Con...   \n",
              "20966  On the Efficient Simulation of the Left-Tail o...   \n",
              "20967   Why optional stopping is a problem for Bayesians   \n",
              "\n",
              "                                                ABSTRACT  Computer Science  \\\n",
              "0        Predictive models allow subject-specific inf...                 1   \n",
              "1        Rotation invariance and translation invarian...                 1   \n",
              "2        We introduce and develop the notion of spher...                 0   \n",
              "3        The stochastic Landau--Lifshitz--Gilbert (LL...                 0   \n",
              "4        Fourier-transform infra-red (FTIR) spectra o...                 1   \n",
              "...                                                  ...               ...   \n",
              "20963    Machine learning is finding increasingly bro...                 1   \n",
              "20964    Polycrystalline diamond coatings have been g...                 0   \n",
              "20965    We present a new approach for identifying si...                 1   \n",
              "20966    The sum of Log-normal variates is encountere...                 0   \n",
              "20967    Recently, optional stopping has been a subje...                 0   \n",
              "\n",
              "       Physics  Mathematics  Statistics  Quantitative Biology  \\\n",
              "0            0            0           0                     0   \n",
              "1            0            0           0                     0   \n",
              "2            0            1           0                     0   \n",
              "3            0            1           0                     0   \n",
              "4            0            0           1                     0   \n",
              "...        ...          ...         ...                   ...   \n",
              "20963        1            0           0                     0   \n",
              "20964        1            0           0                     0   \n",
              "20965        0            0           0                     0   \n",
              "20966        0            1           1                     0   \n",
              "20967        0            1           1                     0   \n",
              "\n",
              "       Quantitative Finance  \n",
              "0                         0  \n",
              "1                         0  \n",
              "2                         0  \n",
              "3                         0  \n",
              "4                         0  \n",
              "...                     ...  \n",
              "20963                     0  \n",
              "20964                     0  \n",
              "20965                     0  \n",
              "20966                     0  \n",
              "20967                     0  \n",
              "\n",
              "[20968 rows x 8 columns]"
            ],
            "text/html": [
              "\n",
              "  <div id=\"df-4a7a6b85-11fe-4e2f-93d6-a77317834432\">\n",
              "    <div class=\"colab-df-container\">\n",
              "      <div>\n",
              "<style scoped>\n",
              "    .dataframe tbody tr th:only-of-type {\n",
              "        vertical-align: middle;\n",
              "    }\n",
              "\n",
              "    .dataframe tbody tr th {\n",
              "        vertical-align: top;\n",
              "    }\n",
              "\n",
              "    .dataframe thead th {\n",
              "        text-align: right;\n",
              "    }\n",
              "</style>\n",
              "<table border=\"1\" class=\"dataframe\">\n",
              "  <thead>\n",
              "    <tr style=\"text-align: right;\">\n",
              "      <th></th>\n",
              "      <th>TITLE</th>\n",
              "      <th>ABSTRACT</th>\n",
              "      <th>Computer Science</th>\n",
              "      <th>Physics</th>\n",
              "      <th>Mathematics</th>\n",
              "      <th>Statistics</th>\n",
              "      <th>Quantitative Biology</th>\n",
              "      <th>Quantitative Finance</th>\n",
              "    </tr>\n",
              "  </thead>\n",
              "  <tbody>\n",
              "    <tr>\n",
              "      <th>0</th>\n",
              "      <td>Reconstructing Subject-Specific Effect Maps</td>\n",
              "      <td>Predictive models allow subject-specific inf...</td>\n",
              "      <td>1</td>\n",
              "      <td>0</td>\n",
              "      <td>0</td>\n",
              "      <td>0</td>\n",
              "      <td>0</td>\n",
              "      <td>0</td>\n",
              "    </tr>\n",
              "    <tr>\n",
              "      <th>1</th>\n",
              "      <td>Rotation Invariance Neural Network</td>\n",
              "      <td>Rotation invariance and translation invarian...</td>\n",
              "      <td>1</td>\n",
              "      <td>0</td>\n",
              "      <td>0</td>\n",
              "      <td>0</td>\n",
              "      <td>0</td>\n",
              "      <td>0</td>\n",
              "    </tr>\n",
              "    <tr>\n",
              "      <th>2</th>\n",
              "      <td>Spherical polyharmonics and Poisson kernels fo...</td>\n",
              "      <td>We introduce and develop the notion of spher...</td>\n",
              "      <td>0</td>\n",
              "      <td>0</td>\n",
              "      <td>1</td>\n",
              "      <td>0</td>\n",
              "      <td>0</td>\n",
              "      <td>0</td>\n",
              "    </tr>\n",
              "    <tr>\n",
              "      <th>3</th>\n",
              "      <td>A finite element approximation for the stochas...</td>\n",
              "      <td>The stochastic Landau--Lifshitz--Gilbert (LL...</td>\n",
              "      <td>0</td>\n",
              "      <td>0</td>\n",
              "      <td>1</td>\n",
              "      <td>0</td>\n",
              "      <td>0</td>\n",
              "      <td>0</td>\n",
              "    </tr>\n",
              "    <tr>\n",
              "      <th>4</th>\n",
              "      <td>Comparative study of Discrete Wavelet Transfor...</td>\n",
              "      <td>Fourier-transform infra-red (FTIR) spectra o...</td>\n",
              "      <td>1</td>\n",
              "      <td>0</td>\n",
              "      <td>0</td>\n",
              "      <td>1</td>\n",
              "      <td>0</td>\n",
              "      <td>0</td>\n",
              "    </tr>\n",
              "    <tr>\n",
              "      <th>...</th>\n",
              "      <td>...</td>\n",
              "      <td>...</td>\n",
              "      <td>...</td>\n",
              "      <td>...</td>\n",
              "      <td>...</td>\n",
              "      <td>...</td>\n",
              "      <td>...</td>\n",
              "      <td>...</td>\n",
              "    </tr>\n",
              "    <tr>\n",
              "      <th>20963</th>\n",
              "      <td>Contemporary machine learning: a guide for pra...</td>\n",
              "      <td>Machine learning is finding increasingly bro...</td>\n",
              "      <td>1</td>\n",
              "      <td>1</td>\n",
              "      <td>0</td>\n",
              "      <td>0</td>\n",
              "      <td>0</td>\n",
              "      <td>0</td>\n",
              "    </tr>\n",
              "    <tr>\n",
              "      <th>20964</th>\n",
              "      <td>Uniform diamond coatings on WC-Co hard alloy c...</td>\n",
              "      <td>Polycrystalline diamond coatings have been g...</td>\n",
              "      <td>0</td>\n",
              "      <td>1</td>\n",
              "      <td>0</td>\n",
              "      <td>0</td>\n",
              "      <td>0</td>\n",
              "      <td>0</td>\n",
              "    </tr>\n",
              "    <tr>\n",
              "      <th>20965</th>\n",
              "      <td>Analysing Soccer Games with Clustering and Con...</td>\n",
              "      <td>We present a new approach for identifying si...</td>\n",
              "      <td>1</td>\n",
              "      <td>0</td>\n",
              "      <td>0</td>\n",
              "      <td>0</td>\n",
              "      <td>0</td>\n",
              "      <td>0</td>\n",
              "    </tr>\n",
              "    <tr>\n",
              "      <th>20966</th>\n",
              "      <td>On the Efficient Simulation of the Left-Tail o...</td>\n",
              "      <td>The sum of Log-normal variates is encountere...</td>\n",
              "      <td>0</td>\n",
              "      <td>0</td>\n",
              "      <td>1</td>\n",
              "      <td>1</td>\n",
              "      <td>0</td>\n",
              "      <td>0</td>\n",
              "    </tr>\n",
              "    <tr>\n",
              "      <th>20967</th>\n",
              "      <td>Why optional stopping is a problem for Bayesians</td>\n",
              "      <td>Recently, optional stopping has been a subje...</td>\n",
              "      <td>0</td>\n",
              "      <td>0</td>\n",
              "      <td>1</td>\n",
              "      <td>1</td>\n",
              "      <td>0</td>\n",
              "      <td>0</td>\n",
              "    </tr>\n",
              "  </tbody>\n",
              "</table>\n",
              "<p>20968 rows × 8 columns</p>\n",
              "</div>\n",
              "      <button class=\"colab-df-convert\" onclick=\"convertToInteractive('df-4a7a6b85-11fe-4e2f-93d6-a77317834432')\"\n",
              "              title=\"Convert this dataframe to an interactive table.\"\n",
              "              style=\"display:none;\">\n",
              "        \n",
              "  <svg xmlns=\"http://www.w3.org/2000/svg\" height=\"24px\"viewBox=\"0 0 24 24\"\n",
              "       width=\"24px\">\n",
              "    <path d=\"M0 0h24v24H0V0z\" fill=\"none\"/>\n",
              "    <path d=\"M18.56 5.44l.94 2.06.94-2.06 2.06-.94-2.06-.94-.94-2.06-.94 2.06-2.06.94zm-11 1L8.5 8.5l.94-2.06 2.06-.94-2.06-.94L8.5 2.5l-.94 2.06-2.06.94zm10 10l.94 2.06.94-2.06 2.06-.94-2.06-.94-.94-2.06-.94 2.06-2.06.94z\"/><path d=\"M17.41 7.96l-1.37-1.37c-.4-.4-.92-.59-1.43-.59-.52 0-1.04.2-1.43.59L10.3 9.45l-7.72 7.72c-.78.78-.78 2.05 0 2.83L4 21.41c.39.39.9.59 1.41.59.51 0 1.02-.2 1.41-.59l7.78-7.78 2.81-2.81c.8-.78.8-2.07 0-2.86zM5.41 20L4 18.59l7.72-7.72 1.47 1.35L5.41 20z\"/>\n",
              "  </svg>\n",
              "      </button>\n",
              "      \n",
              "  <style>\n",
              "    .colab-df-container {\n",
              "      display:flex;\n",
              "      flex-wrap:wrap;\n",
              "      gap: 12px;\n",
              "    }\n",
              "\n",
              "    .colab-df-convert {\n",
              "      background-color: #E8F0FE;\n",
              "      border: none;\n",
              "      border-radius: 50%;\n",
              "      cursor: pointer;\n",
              "      display: none;\n",
              "      fill: #1967D2;\n",
              "      height: 32px;\n",
              "      padding: 0 0 0 0;\n",
              "      width: 32px;\n",
              "    }\n",
              "\n",
              "    .colab-df-convert:hover {\n",
              "      background-color: #E2EBFA;\n",
              "      box-shadow: 0px 1px 2px rgba(60, 64, 67, 0.3), 0px 1px 3px 1px rgba(60, 64, 67, 0.15);\n",
              "      fill: #174EA6;\n",
              "    }\n",
              "\n",
              "    [theme=dark] .colab-df-convert {\n",
              "      background-color: #3B4455;\n",
              "      fill: #D2E3FC;\n",
              "    }\n",
              "\n",
              "    [theme=dark] .colab-df-convert:hover {\n",
              "      background-color: #434B5C;\n",
              "      box-shadow: 0px 1px 3px 1px rgba(0, 0, 0, 0.15);\n",
              "      filter: drop-shadow(0px 1px 2px rgba(0, 0, 0, 0.3));\n",
              "      fill: #FFFFFF;\n",
              "    }\n",
              "  </style>\n",
              "\n",
              "      <script>\n",
              "        const buttonEl =\n",
              "          document.querySelector('#df-4a7a6b85-11fe-4e2f-93d6-a77317834432 button.colab-df-convert');\n",
              "        buttonEl.style.display =\n",
              "          google.colab.kernel.accessAllowed ? 'block' : 'none';\n",
              "\n",
              "        async function convertToInteractive(key) {\n",
              "          const element = document.querySelector('#df-4a7a6b85-11fe-4e2f-93d6-a77317834432');\n",
              "          const dataTable =\n",
              "            await google.colab.kernel.invokeFunction('convertToInteractive',\n",
              "                                                     [key], {});\n",
              "          if (!dataTable) return;\n",
              "\n",
              "          const docLinkHtml = 'Like what you see? Visit the ' +\n",
              "            '<a target=\"_blank\" href=https://colab.research.google.com/notebooks/data_table.ipynb>data table notebook</a>'\n",
              "            + ' to learn more about interactive tables.';\n",
              "          element.innerHTML = '';\n",
              "          dataTable['output_type'] = 'display_data';\n",
              "          await google.colab.output.renderOutput(dataTable, element);\n",
              "          const docLink = document.createElement('div');\n",
              "          docLink.innerHTML = docLinkHtml;\n",
              "          element.appendChild(docLink);\n",
              "        }\n",
              "      </script>\n",
              "    </div>\n",
              "  </div>\n",
              "  "
            ]
          },
          "metadata": {},
          "execution_count": 6
        }
      ]
    },
    {
      "cell_type": "code",
      "source": [
        "data.shape"
      ],
      "metadata": {
        "colab": {
          "base_uri": "https://localhost:8080/"
        },
        "id": "HItDvDIoCxQQ",
        "outputId": "9982c8fd-64bf-4cc5-8f64-8840bfb25a15"
      },
      "execution_count": null,
      "outputs": [
        {
          "output_type": "execute_result",
          "data": {
            "text/plain": [
              "(20968, 8)"
            ]
          },
          "metadata": {},
          "execution_count": 7
        }
      ]
    },
    {
      "cell_type": "code",
      "source": [
        "data['TITLE'].unique()"
      ],
      "metadata": {
        "colab": {
          "base_uri": "https://localhost:8080/"
        },
        "id": "wyh164ZpCzrn",
        "outputId": "bb5337cc-2d03-4ea0-fac5-ea545bf8f066"
      },
      "execution_count": null,
      "outputs": [
        {
          "output_type": "execute_result",
          "data": {
            "text/plain": [
              "array(['Reconstructing Subject-Specific Effect Maps',\n",
              "       'Rotation Invariance Neural Network',\n",
              "       'Spherical polyharmonics and Poisson kernels for polyharmonic functions',\n",
              "       ..., 'Analysing Soccer Games with Clustering and Conceptors',\n",
              "       'On the Efficient Simulation of the Left-Tail of the Sum of Correlated Log-normal Variates',\n",
              "       'Why optional stopping is a problem for Bayesians'], dtype=object)"
            ]
          },
          "metadata": {},
          "execution_count": 8
        }
      ]
    },
    {
      "cell_type": "code",
      "source": [
        "data.isnull().sum()"
      ],
      "metadata": {
        "colab": {
          "base_uri": "https://localhost:8080/"
        },
        "id": "chuBtMILC-Fp",
        "outputId": "48d9ac8c-8a22-49b1-9257-4ba6da17eb06"
      },
      "execution_count": null,
      "outputs": [
        {
          "output_type": "execute_result",
          "data": {
            "text/plain": [
              "TITLE                   0\n",
              "ABSTRACT                0\n",
              "Computer Science        0\n",
              "Physics                 0\n",
              "Mathematics             0\n",
              "Statistics              0\n",
              "Quantitative Biology    0\n",
              "Quantitative Finance    0\n",
              "dtype: int64"
            ]
          },
          "metadata": {},
          "execution_count": 9
        }
      ]
    },
    {
      "cell_type": "code",
      "source": [
        "data[\"Article\"] = data[[\"TITLE\", \"ABSTRACT\"]].apply(\"-\".join, axis=1)\n",
        "data"
      ],
      "metadata": {
        "id": "VeOe4RLfLYx1",
        "colab": {
          "base_uri": "https://localhost:8080/",
          "height": 659
        },
        "outputId": "edad6149-1d48-488c-a197-1ec6d9267778"
      },
      "execution_count": null,
      "outputs": [
        {
          "output_type": "execute_result",
          "data": {
            "text/plain": [
              "                                                   TITLE  \\\n",
              "0            Reconstructing Subject-Specific Effect Maps   \n",
              "1                     Rotation Invariance Neural Network   \n",
              "2      Spherical polyharmonics and Poisson kernels fo...   \n",
              "3      A finite element approximation for the stochas...   \n",
              "4      Comparative study of Discrete Wavelet Transfor...   \n",
              "...                                                  ...   \n",
              "20963  Contemporary machine learning: a guide for pra...   \n",
              "20964  Uniform diamond coatings on WC-Co hard alloy c...   \n",
              "20965  Analysing Soccer Games with Clustering and Con...   \n",
              "20966  On the Efficient Simulation of the Left-Tail o...   \n",
              "20967   Why optional stopping is a problem for Bayesians   \n",
              "\n",
              "                                                ABSTRACT  Computer Science  \\\n",
              "0        Predictive models allow subject-specific inf...                 1   \n",
              "1        Rotation invariance and translation invarian...                 1   \n",
              "2        We introduce and develop the notion of spher...                 0   \n",
              "3        The stochastic Landau--Lifshitz--Gilbert (LL...                 0   \n",
              "4        Fourier-transform infra-red (FTIR) spectra o...                 1   \n",
              "...                                                  ...               ...   \n",
              "20963    Machine learning is finding increasingly bro...                 1   \n",
              "20964    Polycrystalline diamond coatings have been g...                 0   \n",
              "20965    We present a new approach for identifying si...                 1   \n",
              "20966    The sum of Log-normal variates is encountere...                 0   \n",
              "20967    Recently, optional stopping has been a subje...                 0   \n",
              "\n",
              "       Physics  Mathematics  Statistics  Quantitative Biology  \\\n",
              "0            0            0           0                     0   \n",
              "1            0            0           0                     0   \n",
              "2            0            1           0                     0   \n",
              "3            0            1           0                     0   \n",
              "4            0            0           1                     0   \n",
              "...        ...          ...         ...                   ...   \n",
              "20963        1            0           0                     0   \n",
              "20964        1            0           0                     0   \n",
              "20965        0            0           0                     0   \n",
              "20966        0            1           1                     0   \n",
              "20967        0            1           1                     0   \n",
              "\n",
              "       Quantitative Finance                                            Article  \n",
              "0                         0  Reconstructing Subject-Specific Effect Maps-  ...  \n",
              "1                         0  Rotation Invariance Neural Network-  Rotation ...  \n",
              "2                         0  Spherical polyharmonics and Poisson kernels fo...  \n",
              "3                         0  A finite element approximation for the stochas...  \n",
              "4                         0  Comparative study of Discrete Wavelet Transfor...  \n",
              "...                     ...                                                ...  \n",
              "20963                     0  Contemporary machine learning: a guide for pra...  \n",
              "20964                     0  Uniform diamond coatings on WC-Co hard alloy c...  \n",
              "20965                     0  Analysing Soccer Games with Clustering and Con...  \n",
              "20966                     0  On the Efficient Simulation of the Left-Tail o...  \n",
              "20967                     0  Why optional stopping is a problem for Bayesia...  \n",
              "\n",
              "[20968 rows x 9 columns]"
            ],
            "text/html": [
              "\n",
              "  <div id=\"df-8a2faac7-fdb7-4a3f-8434-bf1440522b16\">\n",
              "    <div class=\"colab-df-container\">\n",
              "      <div>\n",
              "<style scoped>\n",
              "    .dataframe tbody tr th:only-of-type {\n",
              "        vertical-align: middle;\n",
              "    }\n",
              "\n",
              "    .dataframe tbody tr th {\n",
              "        vertical-align: top;\n",
              "    }\n",
              "\n",
              "    .dataframe thead th {\n",
              "        text-align: right;\n",
              "    }\n",
              "</style>\n",
              "<table border=\"1\" class=\"dataframe\">\n",
              "  <thead>\n",
              "    <tr style=\"text-align: right;\">\n",
              "      <th></th>\n",
              "      <th>TITLE</th>\n",
              "      <th>ABSTRACT</th>\n",
              "      <th>Computer Science</th>\n",
              "      <th>Physics</th>\n",
              "      <th>Mathematics</th>\n",
              "      <th>Statistics</th>\n",
              "      <th>Quantitative Biology</th>\n",
              "      <th>Quantitative Finance</th>\n",
              "      <th>Article</th>\n",
              "    </tr>\n",
              "  </thead>\n",
              "  <tbody>\n",
              "    <tr>\n",
              "      <th>0</th>\n",
              "      <td>Reconstructing Subject-Specific Effect Maps</td>\n",
              "      <td>Predictive models allow subject-specific inf...</td>\n",
              "      <td>1</td>\n",
              "      <td>0</td>\n",
              "      <td>0</td>\n",
              "      <td>0</td>\n",
              "      <td>0</td>\n",
              "      <td>0</td>\n",
              "      <td>Reconstructing Subject-Specific Effect Maps-  ...</td>\n",
              "    </tr>\n",
              "    <tr>\n",
              "      <th>1</th>\n",
              "      <td>Rotation Invariance Neural Network</td>\n",
              "      <td>Rotation invariance and translation invarian...</td>\n",
              "      <td>1</td>\n",
              "      <td>0</td>\n",
              "      <td>0</td>\n",
              "      <td>0</td>\n",
              "      <td>0</td>\n",
              "      <td>0</td>\n",
              "      <td>Rotation Invariance Neural Network-  Rotation ...</td>\n",
              "    </tr>\n",
              "    <tr>\n",
              "      <th>2</th>\n",
              "      <td>Spherical polyharmonics and Poisson kernels fo...</td>\n",
              "      <td>We introduce and develop the notion of spher...</td>\n",
              "      <td>0</td>\n",
              "      <td>0</td>\n",
              "      <td>1</td>\n",
              "      <td>0</td>\n",
              "      <td>0</td>\n",
              "      <td>0</td>\n",
              "      <td>Spherical polyharmonics and Poisson kernels fo...</td>\n",
              "    </tr>\n",
              "    <tr>\n",
              "      <th>3</th>\n",
              "      <td>A finite element approximation for the stochas...</td>\n",
              "      <td>The stochastic Landau--Lifshitz--Gilbert (LL...</td>\n",
              "      <td>0</td>\n",
              "      <td>0</td>\n",
              "      <td>1</td>\n",
              "      <td>0</td>\n",
              "      <td>0</td>\n",
              "      <td>0</td>\n",
              "      <td>A finite element approximation for the stochas...</td>\n",
              "    </tr>\n",
              "    <tr>\n",
              "      <th>4</th>\n",
              "      <td>Comparative study of Discrete Wavelet Transfor...</td>\n",
              "      <td>Fourier-transform infra-red (FTIR) spectra o...</td>\n",
              "      <td>1</td>\n",
              "      <td>0</td>\n",
              "      <td>0</td>\n",
              "      <td>1</td>\n",
              "      <td>0</td>\n",
              "      <td>0</td>\n",
              "      <td>Comparative study of Discrete Wavelet Transfor...</td>\n",
              "    </tr>\n",
              "    <tr>\n",
              "      <th>...</th>\n",
              "      <td>...</td>\n",
              "      <td>...</td>\n",
              "      <td>...</td>\n",
              "      <td>...</td>\n",
              "      <td>...</td>\n",
              "      <td>...</td>\n",
              "      <td>...</td>\n",
              "      <td>...</td>\n",
              "      <td>...</td>\n",
              "    </tr>\n",
              "    <tr>\n",
              "      <th>20963</th>\n",
              "      <td>Contemporary machine learning: a guide for pra...</td>\n",
              "      <td>Machine learning is finding increasingly bro...</td>\n",
              "      <td>1</td>\n",
              "      <td>1</td>\n",
              "      <td>0</td>\n",
              "      <td>0</td>\n",
              "      <td>0</td>\n",
              "      <td>0</td>\n",
              "      <td>Contemporary machine learning: a guide for pra...</td>\n",
              "    </tr>\n",
              "    <tr>\n",
              "      <th>20964</th>\n",
              "      <td>Uniform diamond coatings on WC-Co hard alloy c...</td>\n",
              "      <td>Polycrystalline diamond coatings have been g...</td>\n",
              "      <td>0</td>\n",
              "      <td>1</td>\n",
              "      <td>0</td>\n",
              "      <td>0</td>\n",
              "      <td>0</td>\n",
              "      <td>0</td>\n",
              "      <td>Uniform diamond coatings on WC-Co hard alloy c...</td>\n",
              "    </tr>\n",
              "    <tr>\n",
              "      <th>20965</th>\n",
              "      <td>Analysing Soccer Games with Clustering and Con...</td>\n",
              "      <td>We present a new approach for identifying si...</td>\n",
              "      <td>1</td>\n",
              "      <td>0</td>\n",
              "      <td>0</td>\n",
              "      <td>0</td>\n",
              "      <td>0</td>\n",
              "      <td>0</td>\n",
              "      <td>Analysing Soccer Games with Clustering and Con...</td>\n",
              "    </tr>\n",
              "    <tr>\n",
              "      <th>20966</th>\n",
              "      <td>On the Efficient Simulation of the Left-Tail o...</td>\n",
              "      <td>The sum of Log-normal variates is encountere...</td>\n",
              "      <td>0</td>\n",
              "      <td>0</td>\n",
              "      <td>1</td>\n",
              "      <td>1</td>\n",
              "      <td>0</td>\n",
              "      <td>0</td>\n",
              "      <td>On the Efficient Simulation of the Left-Tail o...</td>\n",
              "    </tr>\n",
              "    <tr>\n",
              "      <th>20967</th>\n",
              "      <td>Why optional stopping is a problem for Bayesians</td>\n",
              "      <td>Recently, optional stopping has been a subje...</td>\n",
              "      <td>0</td>\n",
              "      <td>0</td>\n",
              "      <td>1</td>\n",
              "      <td>1</td>\n",
              "      <td>0</td>\n",
              "      <td>0</td>\n",
              "      <td>Why optional stopping is a problem for Bayesia...</td>\n",
              "    </tr>\n",
              "  </tbody>\n",
              "</table>\n",
              "<p>20968 rows × 9 columns</p>\n",
              "</div>\n",
              "      <button class=\"colab-df-convert\" onclick=\"convertToInteractive('df-8a2faac7-fdb7-4a3f-8434-bf1440522b16')\"\n",
              "              title=\"Convert this dataframe to an interactive table.\"\n",
              "              style=\"display:none;\">\n",
              "        \n",
              "  <svg xmlns=\"http://www.w3.org/2000/svg\" height=\"24px\"viewBox=\"0 0 24 24\"\n",
              "       width=\"24px\">\n",
              "    <path d=\"M0 0h24v24H0V0z\" fill=\"none\"/>\n",
              "    <path d=\"M18.56 5.44l.94 2.06.94-2.06 2.06-.94-2.06-.94-.94-2.06-.94 2.06-2.06.94zm-11 1L8.5 8.5l.94-2.06 2.06-.94-2.06-.94L8.5 2.5l-.94 2.06-2.06.94zm10 10l.94 2.06.94-2.06 2.06-.94-2.06-.94-.94-2.06-.94 2.06-2.06.94z\"/><path d=\"M17.41 7.96l-1.37-1.37c-.4-.4-.92-.59-1.43-.59-.52 0-1.04.2-1.43.59L10.3 9.45l-7.72 7.72c-.78.78-.78 2.05 0 2.83L4 21.41c.39.39.9.59 1.41.59.51 0 1.02-.2 1.41-.59l7.78-7.78 2.81-2.81c.8-.78.8-2.07 0-2.86zM5.41 20L4 18.59l7.72-7.72 1.47 1.35L5.41 20z\"/>\n",
              "  </svg>\n",
              "      </button>\n",
              "      \n",
              "  <style>\n",
              "    .colab-df-container {\n",
              "      display:flex;\n",
              "      flex-wrap:wrap;\n",
              "      gap: 12px;\n",
              "    }\n",
              "\n",
              "    .colab-df-convert {\n",
              "      background-color: #E8F0FE;\n",
              "      border: none;\n",
              "      border-radius: 50%;\n",
              "      cursor: pointer;\n",
              "      display: none;\n",
              "      fill: #1967D2;\n",
              "      height: 32px;\n",
              "      padding: 0 0 0 0;\n",
              "      width: 32px;\n",
              "    }\n",
              "\n",
              "    .colab-df-convert:hover {\n",
              "      background-color: #E2EBFA;\n",
              "      box-shadow: 0px 1px 2px rgba(60, 64, 67, 0.3), 0px 1px 3px 1px rgba(60, 64, 67, 0.15);\n",
              "      fill: #174EA6;\n",
              "    }\n",
              "\n",
              "    [theme=dark] .colab-df-convert {\n",
              "      background-color: #3B4455;\n",
              "      fill: #D2E3FC;\n",
              "    }\n",
              "\n",
              "    [theme=dark] .colab-df-convert:hover {\n",
              "      background-color: #434B5C;\n",
              "      box-shadow: 0px 1px 3px 1px rgba(0, 0, 0, 0.15);\n",
              "      filter: drop-shadow(0px 1px 2px rgba(0, 0, 0, 0.3));\n",
              "      fill: #FFFFFF;\n",
              "    }\n",
              "  </style>\n",
              "\n",
              "      <script>\n",
              "        const buttonEl =\n",
              "          document.querySelector('#df-8a2faac7-fdb7-4a3f-8434-bf1440522b16 button.colab-df-convert');\n",
              "        buttonEl.style.display =\n",
              "          google.colab.kernel.accessAllowed ? 'block' : 'none';\n",
              "\n",
              "        async function convertToInteractive(key) {\n",
              "          const element = document.querySelector('#df-8a2faac7-fdb7-4a3f-8434-bf1440522b16');\n",
              "          const dataTable =\n",
              "            await google.colab.kernel.invokeFunction('convertToInteractive',\n",
              "                                                     [key], {});\n",
              "          if (!dataTable) return;\n",
              "\n",
              "          const docLinkHtml = 'Like what you see? Visit the ' +\n",
              "            '<a target=\"_blank\" href=https://colab.research.google.com/notebooks/data_table.ipynb>data table notebook</a>'\n",
              "            + ' to learn more about interactive tables.';\n",
              "          element.innerHTML = '';\n",
              "          dataTable['output_type'] = 'display_data';\n",
              "          await google.colab.output.renderOutput(dataTable, element);\n",
              "          const docLink = document.createElement('div');\n",
              "          docLink.innerHTML = docLinkHtml;\n",
              "          element.appendChild(docLink);\n",
              "        }\n",
              "      </script>\n",
              "    </div>\n",
              "  </div>\n",
              "  "
            ]
          },
          "metadata": {},
          "execution_count": 10
        }
      ]
    },
    {
      "cell_type": "code",
      "source": [
        "df = data[{'Computer Science','Physics','Mathematics','Statistics','Quantitative Biology','Quantitative Finance',\t'Article'}]\n",
        "df"
      ],
      "metadata": {
        "colab": {
          "base_uri": "https://localhost:8080/",
          "height": 424
        },
        "id": "OkvoS2uQ1BrI",
        "outputId": "920c4cb3-89e2-41f9-b355-9c1e177c8fdc"
      },
      "execution_count": null,
      "outputs": [
        {
          "output_type": "execute_result",
          "data": {
            "text/plain": [
              "       Statistics  Computer Science  Mathematics  \\\n",
              "0               0                 1            0   \n",
              "1               0                 1            0   \n",
              "2               0                 0            1   \n",
              "3               0                 0            1   \n",
              "4               1                 1            0   \n",
              "...           ...               ...          ...   \n",
              "20963           0                 1            0   \n",
              "20964           0                 0            0   \n",
              "20965           0                 1            0   \n",
              "20966           1                 0            1   \n",
              "20967           1                 0            1   \n",
              "\n",
              "                                                 Article  \\\n",
              "0      Reconstructing Subject-Specific Effect Maps-  ...   \n",
              "1      Rotation Invariance Neural Network-  Rotation ...   \n",
              "2      Spherical polyharmonics and Poisson kernels fo...   \n",
              "3      A finite element approximation for the stochas...   \n",
              "4      Comparative study of Discrete Wavelet Transfor...   \n",
              "...                                                  ...   \n",
              "20963  Contemporary machine learning: a guide for pra...   \n",
              "20964  Uniform diamond coatings on WC-Co hard alloy c...   \n",
              "20965  Analysing Soccer Games with Clustering and Con...   \n",
              "20966  On the Efficient Simulation of the Left-Tail o...   \n",
              "20967  Why optional stopping is a problem for Bayesia...   \n",
              "\n",
              "       Quantitative Biology  Quantitative Finance  Physics  \n",
              "0                         0                     0        0  \n",
              "1                         0                     0        0  \n",
              "2                         0                     0        0  \n",
              "3                         0                     0        0  \n",
              "4                         0                     0        0  \n",
              "...                     ...                   ...      ...  \n",
              "20963                     0                     0        1  \n",
              "20964                     0                     0        1  \n",
              "20965                     0                     0        0  \n",
              "20966                     0                     0        0  \n",
              "20967                     0                     0        0  \n",
              "\n",
              "[20968 rows x 7 columns]"
            ],
            "text/html": [
              "\n",
              "  <div id=\"df-3d855350-503d-4ebf-a5b3-a5af168edee6\">\n",
              "    <div class=\"colab-df-container\">\n",
              "      <div>\n",
              "<style scoped>\n",
              "    .dataframe tbody tr th:only-of-type {\n",
              "        vertical-align: middle;\n",
              "    }\n",
              "\n",
              "    .dataframe tbody tr th {\n",
              "        vertical-align: top;\n",
              "    }\n",
              "\n",
              "    .dataframe thead th {\n",
              "        text-align: right;\n",
              "    }\n",
              "</style>\n",
              "<table border=\"1\" class=\"dataframe\">\n",
              "  <thead>\n",
              "    <tr style=\"text-align: right;\">\n",
              "      <th></th>\n",
              "      <th>Statistics</th>\n",
              "      <th>Computer Science</th>\n",
              "      <th>Mathematics</th>\n",
              "      <th>Article</th>\n",
              "      <th>Quantitative Biology</th>\n",
              "      <th>Quantitative Finance</th>\n",
              "      <th>Physics</th>\n",
              "    </tr>\n",
              "  </thead>\n",
              "  <tbody>\n",
              "    <tr>\n",
              "      <th>0</th>\n",
              "      <td>0</td>\n",
              "      <td>1</td>\n",
              "      <td>0</td>\n",
              "      <td>Reconstructing Subject-Specific Effect Maps-  ...</td>\n",
              "      <td>0</td>\n",
              "      <td>0</td>\n",
              "      <td>0</td>\n",
              "    </tr>\n",
              "    <tr>\n",
              "      <th>1</th>\n",
              "      <td>0</td>\n",
              "      <td>1</td>\n",
              "      <td>0</td>\n",
              "      <td>Rotation Invariance Neural Network-  Rotation ...</td>\n",
              "      <td>0</td>\n",
              "      <td>0</td>\n",
              "      <td>0</td>\n",
              "    </tr>\n",
              "    <tr>\n",
              "      <th>2</th>\n",
              "      <td>0</td>\n",
              "      <td>0</td>\n",
              "      <td>1</td>\n",
              "      <td>Spherical polyharmonics and Poisson kernels fo...</td>\n",
              "      <td>0</td>\n",
              "      <td>0</td>\n",
              "      <td>0</td>\n",
              "    </tr>\n",
              "    <tr>\n",
              "      <th>3</th>\n",
              "      <td>0</td>\n",
              "      <td>0</td>\n",
              "      <td>1</td>\n",
              "      <td>A finite element approximation for the stochas...</td>\n",
              "      <td>0</td>\n",
              "      <td>0</td>\n",
              "      <td>0</td>\n",
              "    </tr>\n",
              "    <tr>\n",
              "      <th>4</th>\n",
              "      <td>1</td>\n",
              "      <td>1</td>\n",
              "      <td>0</td>\n",
              "      <td>Comparative study of Discrete Wavelet Transfor...</td>\n",
              "      <td>0</td>\n",
              "      <td>0</td>\n",
              "      <td>0</td>\n",
              "    </tr>\n",
              "    <tr>\n",
              "      <th>...</th>\n",
              "      <td>...</td>\n",
              "      <td>...</td>\n",
              "      <td>...</td>\n",
              "      <td>...</td>\n",
              "      <td>...</td>\n",
              "      <td>...</td>\n",
              "      <td>...</td>\n",
              "    </tr>\n",
              "    <tr>\n",
              "      <th>20963</th>\n",
              "      <td>0</td>\n",
              "      <td>1</td>\n",
              "      <td>0</td>\n",
              "      <td>Contemporary machine learning: a guide for pra...</td>\n",
              "      <td>0</td>\n",
              "      <td>0</td>\n",
              "      <td>1</td>\n",
              "    </tr>\n",
              "    <tr>\n",
              "      <th>20964</th>\n",
              "      <td>0</td>\n",
              "      <td>0</td>\n",
              "      <td>0</td>\n",
              "      <td>Uniform diamond coatings on WC-Co hard alloy c...</td>\n",
              "      <td>0</td>\n",
              "      <td>0</td>\n",
              "      <td>1</td>\n",
              "    </tr>\n",
              "    <tr>\n",
              "      <th>20965</th>\n",
              "      <td>0</td>\n",
              "      <td>1</td>\n",
              "      <td>0</td>\n",
              "      <td>Analysing Soccer Games with Clustering and Con...</td>\n",
              "      <td>0</td>\n",
              "      <td>0</td>\n",
              "      <td>0</td>\n",
              "    </tr>\n",
              "    <tr>\n",
              "      <th>20966</th>\n",
              "      <td>1</td>\n",
              "      <td>0</td>\n",
              "      <td>1</td>\n",
              "      <td>On the Efficient Simulation of the Left-Tail o...</td>\n",
              "      <td>0</td>\n",
              "      <td>0</td>\n",
              "      <td>0</td>\n",
              "    </tr>\n",
              "    <tr>\n",
              "      <th>20967</th>\n",
              "      <td>1</td>\n",
              "      <td>0</td>\n",
              "      <td>1</td>\n",
              "      <td>Why optional stopping is a problem for Bayesia...</td>\n",
              "      <td>0</td>\n",
              "      <td>0</td>\n",
              "      <td>0</td>\n",
              "    </tr>\n",
              "  </tbody>\n",
              "</table>\n",
              "<p>20968 rows × 7 columns</p>\n",
              "</div>\n",
              "      <button class=\"colab-df-convert\" onclick=\"convertToInteractive('df-3d855350-503d-4ebf-a5b3-a5af168edee6')\"\n",
              "              title=\"Convert this dataframe to an interactive table.\"\n",
              "              style=\"display:none;\">\n",
              "        \n",
              "  <svg xmlns=\"http://www.w3.org/2000/svg\" height=\"24px\"viewBox=\"0 0 24 24\"\n",
              "       width=\"24px\">\n",
              "    <path d=\"M0 0h24v24H0V0z\" fill=\"none\"/>\n",
              "    <path d=\"M18.56 5.44l.94 2.06.94-2.06 2.06-.94-2.06-.94-.94-2.06-.94 2.06-2.06.94zm-11 1L8.5 8.5l.94-2.06 2.06-.94-2.06-.94L8.5 2.5l-.94 2.06-2.06.94zm10 10l.94 2.06.94-2.06 2.06-.94-2.06-.94-.94-2.06-.94 2.06-2.06.94z\"/><path d=\"M17.41 7.96l-1.37-1.37c-.4-.4-.92-.59-1.43-.59-.52 0-1.04.2-1.43.59L10.3 9.45l-7.72 7.72c-.78.78-.78 2.05 0 2.83L4 21.41c.39.39.9.59 1.41.59.51 0 1.02-.2 1.41-.59l7.78-7.78 2.81-2.81c.8-.78.8-2.07 0-2.86zM5.41 20L4 18.59l7.72-7.72 1.47 1.35L5.41 20z\"/>\n",
              "  </svg>\n",
              "      </button>\n",
              "      \n",
              "  <style>\n",
              "    .colab-df-container {\n",
              "      display:flex;\n",
              "      flex-wrap:wrap;\n",
              "      gap: 12px;\n",
              "    }\n",
              "\n",
              "    .colab-df-convert {\n",
              "      background-color: #E8F0FE;\n",
              "      border: none;\n",
              "      border-radius: 50%;\n",
              "      cursor: pointer;\n",
              "      display: none;\n",
              "      fill: #1967D2;\n",
              "      height: 32px;\n",
              "      padding: 0 0 0 0;\n",
              "      width: 32px;\n",
              "    }\n",
              "\n",
              "    .colab-df-convert:hover {\n",
              "      background-color: #E2EBFA;\n",
              "      box-shadow: 0px 1px 2px rgba(60, 64, 67, 0.3), 0px 1px 3px 1px rgba(60, 64, 67, 0.15);\n",
              "      fill: #174EA6;\n",
              "    }\n",
              "\n",
              "    [theme=dark] .colab-df-convert {\n",
              "      background-color: #3B4455;\n",
              "      fill: #D2E3FC;\n",
              "    }\n",
              "\n",
              "    [theme=dark] .colab-df-convert:hover {\n",
              "      background-color: #434B5C;\n",
              "      box-shadow: 0px 1px 3px 1px rgba(0, 0, 0, 0.15);\n",
              "      filter: drop-shadow(0px 1px 2px rgba(0, 0, 0, 0.3));\n",
              "      fill: #FFFFFF;\n",
              "    }\n",
              "  </style>\n",
              "\n",
              "      <script>\n",
              "        const buttonEl =\n",
              "          document.querySelector('#df-3d855350-503d-4ebf-a5b3-a5af168edee6 button.colab-df-convert');\n",
              "        buttonEl.style.display =\n",
              "          google.colab.kernel.accessAllowed ? 'block' : 'none';\n",
              "\n",
              "        async function convertToInteractive(key) {\n",
              "          const element = document.querySelector('#df-3d855350-503d-4ebf-a5b3-a5af168edee6');\n",
              "          const dataTable =\n",
              "            await google.colab.kernel.invokeFunction('convertToInteractive',\n",
              "                                                     [key], {});\n",
              "          if (!dataTable) return;\n",
              "\n",
              "          const docLinkHtml = 'Like what you see? Visit the ' +\n",
              "            '<a target=\"_blank\" href=https://colab.research.google.com/notebooks/data_table.ipynb>data table notebook</a>'\n",
              "            + ' to learn more about interactive tables.';\n",
              "          element.innerHTML = '';\n",
              "          dataTable['output_type'] = 'display_data';\n",
              "          await google.colab.output.renderOutput(dataTable, element);\n",
              "          const docLink = document.createElement('div');\n",
              "          docLink.innerHTML = docLinkHtml;\n",
              "          element.appendChild(docLink);\n",
              "        }\n",
              "      </script>\n",
              "    </div>\n",
              "  </div>\n",
              "  "
            ]
          },
          "metadata": {},
          "execution_count": 11
        }
      ]
    },
    {
      "cell_type": "code",
      "source": [
        "def clean_text1(text):\n",
        "    text=text.lower()\n",
        "    text=re.sub('\\[.*?\\]','',text)\n",
        "    text=re.sub('[%s]'%re.escape(string.punctuation),'',text)\n",
        "    text=re.sub('\\w*\\d\\w*','',text)\n",
        "    return text\n",
        "\n",
        "cleaned1=lambda x:clean_text1(x)"
      ],
      "metadata": {
        "id": "r8HSTNGE1Ry6"
      },
      "execution_count": null,
      "outputs": []
    },
    {
      "cell_type": "code",
      "source": [
        "from nltk.tokenize.toktok import ToktokTokenizer\n",
        "\n",
        "#Tokenization of text\n",
        "tokenizer=ToktokTokenizer()\n",
        "#Setting English stopwords\n",
        "stopword_list=nltk.corpus.stopwords.words('english')"
      ],
      "metadata": {
        "id": "7qEh472G2ipx"
      },
      "execution_count": null,
      "outputs": []
    },
    {
      "cell_type": "code",
      "source": [
        "from bs4 import BeautifulSoup\n",
        "\n",
        "#Removing the html strips\n",
        "def strip_html(text):\n",
        "    soup = BeautifulSoup(text, \"html.parser\")\n",
        "    return soup.get_text()"
      ],
      "metadata": {
        "id": "Rf1b0Fsd2lZe"
      },
      "execution_count": null,
      "outputs": []
    },
    {
      "cell_type": "code",
      "source": [
        "import re,string,unicodedata\n",
        "\n",
        "#Removing the square brackets\n",
        "def remove_between_square_brackets(text):\n",
        "    return re.sub('\\[[^]]*\\]', '', text)"
      ],
      "metadata": {
        "id": "52xUvGtV2nxJ"
      },
      "execution_count": null,
      "outputs": []
    },
    {
      "cell_type": "code",
      "source": [
        "#Removing the noisy text\n",
        "def denoise_text(text):\n",
        "    text = strip_html(text)\n",
        "    text = remove_between_square_brackets(text)\n",
        "    return text"
      ],
      "metadata": {
        "id": "EAfdWMs02sB-"
      },
      "execution_count": null,
      "outputs": []
    },
    {
      "cell_type": "code",
      "source": [
        "df['Article']=df['Article'].apply(denoise_text)"
      ],
      "metadata": {
        "colab": {
          "base_uri": "https://localhost:8080/"
        },
        "id": "l2gU7VrF2ulM",
        "outputId": "5591b275-2e5e-4954-98b5-b6bf9c0c539e"
      },
      "execution_count": null,
      "outputs": [
        {
          "output_type": "stream",
          "name": "stderr",
          "text": [
            "<ipython-input-17-a43b774b8e83>:1: SettingWithCopyWarning: \n",
            "A value is trying to be set on a copy of a slice from a DataFrame.\n",
            "Try using .loc[row_indexer,col_indexer] = value instead\n",
            "\n",
            "See the caveats in the documentation: https://pandas.pydata.org/pandas-docs/stable/user_guide/indexing.html#returning-a-view-versus-a-copy\n",
            "  df['Article']=df['Article'].apply(denoise_text)\n"
          ]
        }
      ]
    },
    {
      "cell_type": "code",
      "source": [
        "#Define function for removing special characters\n",
        "def remove_special_characters(text, remove_digits=True):\n",
        "    pattern=r'[^a-zA-z0-9\\s]'\n",
        "    text=re.sub(pattern,'',text)\n",
        "    return text"
      ],
      "metadata": {
        "id": "v5SIeqhB25Df"
      },
      "execution_count": null,
      "outputs": []
    },
    {
      "cell_type": "code",
      "source": [
        "df['Article']=df['Article'].apply(remove_special_characters)"
      ],
      "metadata": {
        "colab": {
          "base_uri": "https://localhost:8080/"
        },
        "id": "YxO5U_aw2_o8",
        "outputId": "e0f259a2-73dc-4831-dccb-ac6272004a6a"
      },
      "execution_count": null,
      "outputs": [
        {
          "output_type": "stream",
          "name": "stderr",
          "text": [
            "<ipython-input-19-33851fa8c9d4>:1: SettingWithCopyWarning: \n",
            "A value is trying to be set on a copy of a slice from a DataFrame.\n",
            "Try using .loc[row_indexer,col_indexer] = value instead\n",
            "\n",
            "See the caveats in the documentation: https://pandas.pydata.org/pandas-docs/stable/user_guide/indexing.html#returning-a-view-versus-a-copy\n",
            "  df['Article']=df['Article'].apply(remove_special_characters)\n"
          ]
        }
      ]
    },
    {
      "cell_type": "code",
      "source": [
        "#Stemming the text\n",
        "def simple_stemmer(text):\n",
        "    ps=nltk.porter.PorterStemmer()\n",
        "    text= ' '.join([ps.stem(word) for word in text.split()])\n",
        "    return text"
      ],
      "metadata": {
        "id": "3UNAtY2v3Cd4"
      },
      "execution_count": null,
      "outputs": []
    },
    {
      "cell_type": "code",
      "source": [
        "df['Article']=df['Article'].apply(simple_stemmer)"
      ],
      "metadata": {
        "colab": {
          "base_uri": "https://localhost:8080/"
        },
        "id": "TjoWuk133FEG",
        "outputId": "fa785788-7d54-43d8-d532-3b24a9dde47c"
      },
      "execution_count": null,
      "outputs": [
        {
          "output_type": "stream",
          "name": "stderr",
          "text": [
            "<ipython-input-21-a33caa5b947b>:1: SettingWithCopyWarning: \n",
            "A value is trying to be set on a copy of a slice from a DataFrame.\n",
            "Try using .loc[row_indexer,col_indexer] = value instead\n",
            "\n",
            "See the caveats in the documentation: https://pandas.pydata.org/pandas-docs/stable/user_guide/indexing.html#returning-a-view-versus-a-copy\n",
            "  df['Article']=df['Article'].apply(simple_stemmer)\n"
          ]
        }
      ]
    },
    {
      "cell_type": "code",
      "source": [
        "from nltk.corpus import stopwords\n",
        "\n",
        "\n",
        "#set stopwords to english\n",
        "stop=set(stopwords.words('english'))\n",
        "print(stop)\n",
        "\n",
        "#removing the stopwords\n",
        "def remove_stopwords(text, is_lower_case=False):\n",
        "    tokens = tokenizer.tokenize(text)\n",
        "    tokens = [token.strip() for token in tokens]\n",
        "    if is_lower_case:\n",
        "        filtered_tokens = [token for token in tokens if token not in stopword_list]\n",
        "    else:\n",
        "        filtered_tokens = [token for token in tokens if token.lower() not in stopword_list]\n",
        "    filtered_text = ' '.join(filtered_tokens)    \n",
        "    return filtered_text"
      ],
      "metadata": {
        "colab": {
          "base_uri": "https://localhost:8080/"
        },
        "id": "As1dd5kV3I9H",
        "outputId": "7334bb60-a494-46b1-b469-7cc07e38824a"
      },
      "execution_count": null,
      "outputs": [
        {
          "output_type": "stream",
          "name": "stdout",
          "text": [
            "{'after', 'by', 'once', 'can', 'won', \"you'd\", 'own', \"doesn't\", \"needn't\", 'my', 'the', 'too', 'some', 'hers', 'weren', \"mustn't\", 'd', 'that', 'been', 'each', 'myself', 'no', 've', 't', 'doesn', 'isn', 'y', 'theirs', 'about', 'further', 'yourself', 'just', 'where', 'against', 'have', 're', 'yourselves', \"shouldn't\", 'more', 'his', 'will', 'both', 'with', 'how', \"it's\", 'am', \"aren't\", 'you', 'o', \"shan't\", 'them', 'this', 'mightn', 'had', 'an', 'ma', 'having', 'but', 'not', 'wasn', \"won't\", 'same', 'through', 'being', 'over', 'here', 'himself', \"you've\", 'does', 'hadn', 'to', 'very', 'ourselves', 'doing', 'as', 'why', 'couldn', 'was', 'needn', 'what', 'into', \"couldn't\", 'such', \"hasn't\", 'yours', 'itself', 'themselves', 'ours', 'now', 'are', 'their', 'herself', 'those', \"you're\", 'hasn', 'up', 'between', \"that'll\", \"weren't\", \"haven't\", 'didn', 'above', 'it', 'our', 'who', 'she', 'few', 'm', 'for', 'shan', 'off', \"you'll\", 'most', 'all', 'mustn', 'than', 'me', 'so', 'nor', 'under', 'has', 'only', 'other', 'from', 'if', 'ain', 'and', 'were', 'on', 'of', \"wouldn't\", \"didn't\", 'll', \"mightn't\", 'because', 'there', 'when', 'shouldn', 'your', 'him', 'in', 'her', 'while', 'until', 'which', 'at', 'these', 'down', 'is', 'i', 's', 'they', 'be', 'should', \"hadn't\", 'again', 'during', 'aren', \"isn't\", 'don', 'do', 'before', \"she's\", \"wasn't\", 'below', 'a', 'wouldn', 'haven', 'or', 'any', \"should've\", 'he', 'whom', 'did', 'then', 'out', 'its', 'we', \"don't\"}\n"
          ]
        }
      ]
    },
    {
      "cell_type": "code",
      "source": [
        "df['Article']=df['Article'].apply(remove_stopwords)"
      ],
      "metadata": {
        "colab": {
          "base_uri": "https://localhost:8080/"
        },
        "id": "xGEWg8U_3NK-",
        "outputId": "2f1c491d-f45f-410a-bdd2-d29bbf706041"
      },
      "execution_count": null,
      "outputs": [
        {
          "output_type": "stream",
          "name": "stderr",
          "text": [
            "<ipython-input-23-008e6fae5e52>:1: SettingWithCopyWarning: \n",
            "A value is trying to be set on a copy of a slice from a DataFrame.\n",
            "Try using .loc[row_indexer,col_indexer] = value instead\n",
            "\n",
            "See the caveats in the documentation: https://pandas.pydata.org/pandas-docs/stable/user_guide/indexing.html#returning-a-view-versus-a-copy\n",
            "  df['Article']=df['Article'].apply(remove_stopwords)\n"
          ]
        }
      ]
    },
    {
      "cell_type": "code",
      "source": [
        "from nltk.stem import WordNetLemmatizer,SnowballStemmer\n",
        "\n",
        "def simple_stemmer(text):\n",
        "    ps = SnowballStemmer(language='english')\n",
        "    return ' '.join([ps.stem(word) for word in tokenizer.tokenize(text)])"
      ],
      "metadata": {
        "id": "-vJD5r8I3Roc"
      },
      "execution_count": null,
      "outputs": []
    },
    {
      "cell_type": "code",
      "source": [
        "data['Article'][0]"
      ],
      "metadata": {
        "colab": {
          "base_uri": "https://localhost:8080/"
        },
        "id": "CtDXO5Z63WEn",
        "outputId": "90fdf353-0dab-48de-8add-5265a55fa900"
      },
      "execution_count": null,
      "outputs": [
        {
          "output_type": "execute_result",
          "data": {
            "text/plain": [
              "\"Reconstructing Subject-Specific Effect Maps-  Predictive models allow subject-specific inference when analyzing disease\\nrelated alterations in neuroimaging data. Given a subject's data, inference can\\nbe made at two levels: global, i.e. identifiying condition presence for the\\nsubject, and local, i.e. detecting condition effect on each individual\\nmeasurement extracted from the subject's data. While global inference is widely\\nused, local inference, which can be used to form subject-specific effect maps,\\nis rarely used because existing models often yield noisy detections composed of\\ndispersed isolated islands. In this article, we propose a reconstruction\\nmethod, named RSM, to improve subject-specific detections of predictive\\nmodeling approaches and in particular, binary classifiers. RSM specifically\\naims to reduce noise due to sampling error associated with using a finite\\nsample of examples to train classifiers. The proposed method is a wrapper-type\\nalgorithm that can be used with different binary classifiers in a diagnostic\\nmanner, i.e. without information on condition presence. Reconstruction is posed\\nas a Maximum-A-Posteriori problem with a prior model whose parameters are\\nestimated from training data in a classifier-specific fashion. Experimental\\nevaluation is performed on synthetically generated data and data from the\\nAlzheimer's Disease Neuroimaging Initiative (ADNI) database. Results on\\nsynthetic data demonstrate that using RSM yields higher detection accuracy\\ncompared to using models directly or with bootstrap averaging. Analyses on the\\nADNI dataset show that RSM can also improve correlation between\\nsubject-specific detections in cortical thickness data and non-imaging markers\\nof Alzheimer's Disease (AD), such as the Mini Mental State Examination Score\\nand Cerebrospinal Fluid amyloid-$\\\\beta$ levels. Further reliability studies on\\nthe longitudinal ADNI dataset show improvement on detection reliability when\\nRSM is used.\\n\""
            ],
            "application/vnd.google.colaboratory.intrinsic+json": {
              "type": "string"
            }
          },
          "metadata": {},
          "execution_count": 25
        }
      ]
    },
    {
      "cell_type": "code",
      "source": [
        "#Lemmatizer example\n",
        "\n",
        "def lemmatize_all(sentence):\n",
        "    wnl = WordNetLemmatizer()\n",
        "    for word, tag in pos_tag(word_tokenize(sentence)):\n",
        "        if tag.startswith(\"NN\"):\n",
        "            yield wnl.lemmatize(word, pos='n')\n",
        "        elif tag.startswith('VB'):\n",
        "            yield wnl.lemmatize(word, pos='v')\n",
        "        elif tag.startswith('JJ'):\n",
        "            yield wnl.lemmatize(word, pos='a')\n",
        "        else:\n",
        "            yield word\n",
        "            \n",
        "def lemmatize_text(text):\n",
        "    return ' '.join(lemmatize_all(text))\n",
        "\n",
        "\n",
        "df['Article'][0]"
      ],
      "metadata": {
        "colab": {
          "base_uri": "https://localhost:8080/"
        },
        "id": "XKzHx3gn3YTk",
        "outputId": "257e2a06-8529-4f59-ed62-bb4fd23bbf57"
      },
      "execution_count": null,
      "outputs": [
        {
          "output_type": "execute_result",
          "data": {
            "text/plain": [
              "'reconstruct subjectspecif effect map predict model allow subjectspecif infer analyz diseas relat alter neuroimag data given subject data infer made two level global ie identifiy condit presenc subject local ie detect condit effect individu measur extract subject data global infer wide use local infer use form subjectspecif effect map rare use becaus exist model often yield noisi detect compos dispers isol island thi articl propos reconstruct method name rsm improv subjectspecif detect predict model approach particular binari classifi rsm specif aim reduc nois due sampl error associ use finit sampl exampl train classifi propos method wrappertyp algorithm use differ binari classifi diagnost manner ie without inform condit presenc reconstruct pose maximumaposteriori problem prior model whose paramet estim train data classifierspecif fashion experiment evalu perform synthet gener data data alzheim diseas neuroimag initi adni databas result synthet data demonstr use rsm yield higher detect accuraci compar use model directli bootstrap averag analys adni dataset show rsm also improv correl subjectspecif detect cortic thick data nonimag marker alzheim diseas ad mini mental state examin score cerebrospin fluid amyloid\\\\beta level reliabl studi longitudin adni dataset show improv detect reliabl rsm use'"
            ],
            "application/vnd.google.colaboratory.intrinsic+json": {
              "type": "string"
            }
          },
          "metadata": {},
          "execution_count": 26
        }
      ]
    },
    {
      "cell_type": "code",
      "source": [],
      "metadata": {
        "id": "VaHfbMQ23dUC"
      },
      "execution_count": null,
      "outputs": []
    },
    {
      "cell_type": "code",
      "source": [
        "from sklearn.feature_extraction.text import CountVectorizer, TfidfVectorizer\n",
        "from sklearn.metrics.pairwise import cosine_similarity\n",
        "import spacy\n",
        "\n",
        "nlp = spacy.load(\"en_core_web_sm\")\n",
        "\n",
        "print(\"With Count Vectorizer\")\n",
        "vectorizer = CountVectorizer()\n",
        "X = vectorizer.fit_transform(df)\n",
        "print(vectorizer.get_feature_names_out())\n",
        "print(X.toarray())\n",
        "print(\"\\n\")\n",
        "print(cosine_similarity(X))"
      ],
      "metadata": {
        "colab": {
          "base_uri": "https://localhost:8080/"
        },
        "id": "8GLGDfxP3d2y",
        "outputId": "c0a68dfa-a887-439d-8e97-0c6ee221e4ad"
      },
      "execution_count": null,
      "outputs": [
        {
          "output_type": "stream",
          "name": "stdout",
          "text": [
            "With Count Vectorizer\n",
            "['article' 'biology' 'computer' 'finance' 'mathematics' 'physics'\n",
            " 'quantitative' 'science' 'statistics']\n",
            "[[0 0 0 0 0 0 0 0 1]\n",
            " [0 0 1 0 0 0 0 1 0]\n",
            " [0 0 0 0 1 0 0 0 0]\n",
            " [1 0 0 0 0 0 0 0 0]\n",
            " [0 1 0 0 0 0 1 0 0]\n",
            " [0 0 0 1 0 0 1 0 0]\n",
            " [0 0 0 0 0 1 0 0 0]]\n",
            "\n",
            "\n",
            "[[1.  0.  0.  0.  0.  0.  0. ]\n",
            " [0.  1.  0.  0.  0.  0.  0. ]\n",
            " [0.  0.  1.  0.  0.  0.  0. ]\n",
            " [0.  0.  0.  1.  0.  0.  0. ]\n",
            " [0.  0.  0.  0.  1.  0.5 0. ]\n",
            " [0.  0.  0.  0.  0.5 1.  0. ]\n",
            " [0.  0.  0.  0.  0.  0.  1. ]]\n"
          ]
        }
      ]
    },
    {
      "cell_type": "code",
      "source": [
        "print(\"\\n\\nWith Count Vectorizer and removing stop words\")\n",
        "vectorizer = CountVectorizer(stop_words=nlp.Defaults.stop_words)\n",
        "X = vectorizer.fit_transform(df)\n",
        "print(vectorizer.get_feature_names_out())\n",
        "print(X.toarray())\n",
        "print(\"\\n\")\n",
        "print(cosine_similarity(X))"
      ],
      "metadata": {
        "colab": {
          "base_uri": "https://localhost:8080/"
        },
        "id": "RPU1Dpwk3iic",
        "outputId": "17c45606-1f19-449b-f216-ec97becf6c71"
      },
      "execution_count": null,
      "outputs": [
        {
          "output_type": "stream",
          "name": "stdout",
          "text": [
            "\n",
            "\n",
            "With Count Vectorizer and removing stop words\n",
            "['article' 'biology' 'computer' 'finance' 'mathematics' 'physics'\n",
            " 'quantitative' 'science' 'statistics']\n",
            "[[0 0 0 0 0 0 0 0 1]\n",
            " [0 0 1 0 0 0 0 1 0]\n",
            " [0 0 0 0 1 0 0 0 0]\n",
            " [1 0 0 0 0 0 0 0 0]\n",
            " [0 1 0 0 0 0 1 0 0]\n",
            " [0 0 0 1 0 0 1 0 0]\n",
            " [0 0 0 0 0 1 0 0 0]]\n",
            "\n",
            "\n",
            "[[1.  0.  0.  0.  0.  0.  0. ]\n",
            " [0.  1.  0.  0.  0.  0.  0. ]\n",
            " [0.  0.  1.  0.  0.  0.  0. ]\n",
            " [0.  0.  0.  1.  0.  0.  0. ]\n",
            " [0.  0.  0.  0.  1.  0.5 0. ]\n",
            " [0.  0.  0.  0.  0.5 1.  0. ]\n",
            " [0.  0.  0.  0.  0.  0.  1. ]]\n"
          ]
        },
        {
          "output_type": "stream",
          "name": "stderr",
          "text": [
            "/usr/local/lib/python3.8/dist-packages/sklearn/feature_extraction/text.py:396: UserWarning: Your stop_words may be inconsistent with your preprocessing. Tokenizing the stop words generated tokens ['ll', 've'] not in stop_words.\n",
            "  warnings.warn(\n"
          ]
        }
      ]
    },
    {
      "cell_type": "code",
      "source": [
        "print(\"\\n\\nWith TFIDFVectorizer\")\n",
        "vectorizer = TfidfVectorizer()\n",
        "X = vectorizer.fit_transform(df)\n",
        "print(vectorizer.get_feature_names_out())\n",
        "print(X.toarray())\n",
        "print(\"\\n\")\n",
        "print(cosine_similarity(X))"
      ],
      "metadata": {
        "colab": {
          "base_uri": "https://localhost:8080/"
        },
        "id": "lFMfkIVN3nHw",
        "outputId": "23b8e6dc-5a8c-44b3-82d9-b05e90a10d3b"
      },
      "execution_count": null,
      "outputs": [
        {
          "output_type": "stream",
          "name": "stdout",
          "text": [
            "\n",
            "\n",
            "With TFIDFVectorizer\n",
            "['article' 'biology' 'computer' 'finance' 'mathematics' 'physics'\n",
            " 'quantitative' 'science' 'statistics']\n",
            "[[0.         0.         0.         0.         0.         0.\n",
            "  0.         0.         1.        ]\n",
            " [0.         0.         0.70710678 0.         0.         0.\n",
            "  0.         0.70710678 0.        ]\n",
            " [0.         0.         0.         0.         1.         0.\n",
            "  0.         0.         0.        ]\n",
            " [1.         0.         0.         0.         0.         0.\n",
            "  0.         0.         0.        ]\n",
            " [0.         0.76944876 0.         0.         0.         0.\n",
            "  0.63870855 0.         0.        ]\n",
            " [0.         0.         0.         0.76944876 0.         0.\n",
            "  0.63870855 0.         0.        ]\n",
            " [0.         0.         0.         0.         0.         1.\n",
            "  0.         0.         0.        ]]\n",
            "\n",
            "\n",
            "[[1.         0.         0.         0.         0.         0.\n",
            "  0.        ]\n",
            " [0.         1.         0.         0.         0.         0.\n",
            "  0.        ]\n",
            " [0.         0.         1.         0.         0.         0.\n",
            "  0.        ]\n",
            " [0.         0.         0.         1.         0.         0.\n",
            "  0.        ]\n",
            " [0.         0.         0.         0.         1.         0.40794861\n",
            "  0.        ]\n",
            " [0.         0.         0.         0.         0.40794861 1.\n",
            "  0.        ]\n",
            " [0.         0.         0.         0.         0.         0.\n",
            "  1.        ]]\n"
          ]
        }
      ]
    },
    {
      "cell_type": "code",
      "source": [
        "print(\"\\n\\nWith TFIDFVectorizer and removing stop words\")\n",
        "vectorizer = TfidfVectorizer(stop_words=nlp.Defaults.stop_words)\n",
        "X = vectorizer.fit_transform(df)\n",
        "print(vectorizer.get_feature_names_out())\n",
        "print(X.toarray())\n",
        "print(\"\\n\")\n",
        "print(cosine_similarity(X))"
      ],
      "metadata": {
        "colab": {
          "base_uri": "https://localhost:8080/"
        },
        "id": "ehf-KQIB3qNo",
        "outputId": "fceecbbe-a702-4983-fe2e-ff0ff1d28435"
      },
      "execution_count": null,
      "outputs": [
        {
          "output_type": "stream",
          "name": "stdout",
          "text": [
            "\n",
            "\n",
            "With TFIDFVectorizer and removing stop words\n",
            "['article' 'biology' 'computer' 'finance' 'mathematics' 'physics'\n",
            " 'quantitative' 'science' 'statistics']\n",
            "[[0.         0.         0.         0.         0.         0.\n",
            "  0.         0.         1.        ]\n",
            " [0.         0.         0.70710678 0.         0.         0.\n",
            "  0.         0.70710678 0.        ]\n",
            " [0.         0.         0.         0.         1.         0.\n",
            "  0.         0.         0.        ]\n",
            " [1.         0.         0.         0.         0.         0.\n",
            "  0.         0.         0.        ]\n",
            " [0.         0.76944876 0.         0.         0.         0.\n",
            "  0.63870855 0.         0.        ]\n",
            " [0.         0.         0.         0.76944876 0.         0.\n",
            "  0.63870855 0.         0.        ]\n",
            " [0.         0.         0.         0.         0.         1.\n",
            "  0.         0.         0.        ]]\n",
            "\n",
            "\n",
            "[[1.         0.         0.         0.         0.         0.\n",
            "  0.        ]\n",
            " [0.         1.         0.         0.         0.         0.\n",
            "  0.        ]\n",
            " [0.         0.         1.         0.         0.         0.\n",
            "  0.        ]\n",
            " [0.         0.         0.         1.         0.         0.\n",
            "  0.        ]\n",
            " [0.         0.         0.         0.         1.         0.40794861\n",
            "  0.        ]\n",
            " [0.         0.         0.         0.         0.40794861 1.\n",
            "  0.        ]\n",
            " [0.         0.         0.         0.         0.         0.\n",
            "  1.        ]]\n"
          ]
        }
      ]
    },
    {
      "cell_type": "code",
      "source": [
        "df['Article']"
      ],
      "metadata": {
        "colab": {
          "base_uri": "https://localhost:8080/"
        },
        "id": "68Kb3NgX5HKN",
        "outputId": "5809ac13-a268-4875-ec6a-97f9e20d10d4"
      },
      "execution_count": null,
      "outputs": [
        {
          "output_type": "execute_result",
          "data": {
            "text/plain": [
              "0        reconstruct subjectspecif effect map predict m...\n",
              "1        rotat invari neural network rotat invari trans...\n",
              "2        spheric polyharmon poisson kernel polyharmon f...\n",
              "3        finit element approxim stochast maxwelllandaul...\n",
              "4        compar studi discret wavelet transform wavelet...\n",
              "                               ...                        \n",
              "20963    contemporari machin learn guid practition phys...\n",
              "20964    uniform diamond coat wcco hard alloy cut inser...\n",
              "20965    analys soccer game cluster conceptor present n...\n",
              "20966    effici simul lefttail sum correl lognorm varia...\n",
              "20967    whi option stop problem bayesian recent option...\n",
              "Name: Article, Length: 20968, dtype: object"
            ]
          },
          "metadata": {},
          "execution_count": 31
        }
      ]
    },
    {
      "cell_type": "code",
      "source": [
        "print(X)"
      ],
      "metadata": {
        "colab": {
          "base_uri": "https://localhost:8080/"
        },
        "id": "4BK6dNpG6HOm",
        "outputId": "3f809f9e-a88b-45fd-d1de-c92a3ff4b1b1"
      },
      "execution_count": null,
      "outputs": [
        {
          "output_type": "stream",
          "name": "stdout",
          "text": [
            "  (0, 8)\t1.0\n",
            "  (1, 7)\t0.7071067811865476\n",
            "  (1, 2)\t0.7071067811865476\n",
            "  (2, 4)\t1.0\n",
            "  (3, 0)\t1.0\n",
            "  (4, 1)\t0.7694487573949885\n",
            "  (4, 6)\t0.6387085483562188\n",
            "  (5, 3)\t0.7694487573949885\n",
            "  (5, 6)\t0.6387085483562188\n",
            "  (6, 5)\t1.0\n"
          ]
        }
      ]
    },
    {
      "cell_type": "code",
      "source": [
        "from sklearn.model_selection import train_test_split\n",
        "from sklearn.linear_model import LinearRegression\n",
        "from sklearn.linear_model import LogisticRegression\n",
        "from sklearn import metrics"
      ],
      "metadata": {
        "id": "BD11mIgG51Cp"
      },
      "execution_count": null,
      "outputs": []
    },
    {
      "cell_type": "code",
      "source": [
        "X= df.drop(\"Article\", axis=1)\n",
        "y=df[\"Article\"]\n",
        "X.head"
      ],
      "metadata": {
        "colab": {
          "base_uri": "https://localhost:8080/"
        },
        "id": "N9X8IFBp61iQ",
        "outputId": "7815a9d2-de1e-4164-e54f-f09dd66c22fc"
      },
      "execution_count": null,
      "outputs": [
        {
          "output_type": "execute_result",
          "data": {
            "text/plain": [
              "<bound method NDFrame.head of        Statistics  Computer Science  Mathematics  Quantitative Biology  \\\n",
              "0               0                 1            0                     0   \n",
              "1               0                 1            0                     0   \n",
              "2               0                 0            1                     0   \n",
              "3               0                 0            1                     0   \n",
              "4               1                 1            0                     0   \n",
              "...           ...               ...          ...                   ...   \n",
              "20963           0                 1            0                     0   \n",
              "20964           0                 0            0                     0   \n",
              "20965           0                 1            0                     0   \n",
              "20966           1                 0            1                     0   \n",
              "20967           1                 0            1                     0   \n",
              "\n",
              "       Quantitative Finance  Physics  \n",
              "0                         0        0  \n",
              "1                         0        0  \n",
              "2                         0        0  \n",
              "3                         0        0  \n",
              "4                         0        0  \n",
              "...                     ...      ...  \n",
              "20963                     0        1  \n",
              "20964                     0        1  \n",
              "20965                     0        0  \n",
              "20966                     0        0  \n",
              "20967                     0        0  \n",
              "\n",
              "[20968 rows x 6 columns]>"
            ]
          },
          "metadata": {},
          "execution_count": 34
        }
      ]
    },
    {
      "cell_type": "code",
      "source": [
        "X_train, X_test, y_train, y_test = train_test_split(X, y, test_size=0.4, random_state = 42)"
      ],
      "metadata": {
        "id": "7ukq8ZwA816z"
      },
      "execution_count": null,
      "outputs": []
    },
    {
      "cell_type": "code",
      "source": [
        "# Vectorize the text data\n",
        "vectorizer = CountVectorizer()\n",
        "y_train = vectorizer.fit_transform(y_train)\n",
        "y_test = vectorizer.transform(y_test)\n",
        "\n",
        "# Convert the sparse matrix to a dense matrix\n",
        "y_train = y_train.toarray()\n",
        "y_test = y_test.toarray()"
      ],
      "metadata": {
        "id": "NVKmWnwF89Fg"
      },
      "execution_count": null,
      "outputs": []
    },
    {
      "cell_type": "code",
      "source": [
        "# Train the linear regression model\n",
        "model = LogisticRegression()\n",
        "model.fit(X_train, y_train)"
      ],
      "metadata": {
        "colab": {
          "base_uri": "https://localhost:8080/"
        },
        "id": "62wNqLT99CrP",
        "outputId": "4c4621f2-8ebb-4077-9a0d-602f88316205"
      },
      "execution_count": null,
      "outputs": [
        {
          "output_type": "error",
          "ename": "NameError",
          "evalue": "ignored",
          "traceback": [
            "\u001b[0;31m---------------------------------------------------------------------------\u001b[0m",
            "\u001b[0;31mNameError\u001b[0m                                 Traceback (most recent call last)",
            "\u001b[0;32m<ipython-input-37-592aa46ac2d1>\u001b[0m in \u001b[0;36m<module>\u001b[0;34m\u001b[0m\n\u001b[1;32m      1\u001b[0m \u001b[0;31m# Train the linear regression model\u001b[0m\u001b[0;34m\u001b[0m\u001b[0;34m\u001b[0m\u001b[0;34m\u001b[0m\u001b[0m\n\u001b[0;32m----> 2\u001b[0;31m \u001b[0mmodel\u001b[0m \u001b[0;34m=\u001b[0m \u001b[0mLogisticRegression\u001b[0m\u001b[0;34m(\u001b[0m\u001b[0;34m)\u001b[0m\u001b[0;34m\u001b[0m\u001b[0;34m\u001b[0m\u001b[0m\n\u001b[0m\u001b[1;32m      3\u001b[0m \u001b[0mmodel\u001b[0m\u001b[0;34m.\u001b[0m\u001b[0mfit\u001b[0m\u001b[0;34m(\u001b[0m\u001b[0mX_train\u001b[0m\u001b[0;34m,\u001b[0m \u001b[0my_train\u001b[0m\u001b[0;34m)\u001b[0m\u001b[0;34m\u001b[0m\u001b[0;34m\u001b[0m\u001b[0m\n",
            "\u001b[0;31mNameError\u001b[0m: name 'LogisticRegression' is not defined"
          ]
        }
      ]
    },
    {
      "cell_type": "code",
      "source": [],
      "metadata": {
        "id": "bSh_G-lc9PMz"
      },
      "execution_count": null,
      "outputs": []
    }
  ]
}